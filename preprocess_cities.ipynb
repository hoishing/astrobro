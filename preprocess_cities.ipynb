{
 "cells": [
  {
   "cell_type": "markdown",
   "metadata": {},
   "source": [
    "Geonames Data\n",
    "\n",
    "- file: https://download.geonames.org/export/dump/cities5000.zip\n",
    "- all cities with a population > 5000\n",
    "- data definition: https://download.geonames.org/export/dump/readme.txt"
   ]
  },
  {
   "cell_type": "code",
   "execution_count": 1,
   "metadata": {},
   "outputs": [],
   "source": [
    "import pandas as pd"
   ]
  },
  {
   "cell_type": "code",
   "execution_count": 2,
   "metadata": {},
   "outputs": [],
   "source": [
    "cols = [\n",
    "    \"geonameid\",\n",
    "    \"name\",\n",
    "    \"asciiname\",\n",
    "    \"alternatenames\",\n",
    "    \"latitude\",\n",
    "    \"longitude\",\n",
    "    \"feature class\",\n",
    "    \"feature code\",\n",
    "    \"country code\",\n",
    "    \"cc2\",\n",
    "    \"admin1 code\",\n",
    "    \"admin2 code\",\n",
    "    \"admin3 code\",\n",
    "    \"admin4 code\",\n",
    "    \"population\",\n",
    "    \"elevation\",\n",
    "    \"dem\",\n",
    "    \"timezone\",\n",
    "    \"modification\",\n",
    "]"
   ]
  },
  {
   "cell_type": "code",
   "execution_count": 3,
   "metadata": {},
   "outputs": [
    {
     "data": {
      "text/plain": [
       "58648"
      ]
     },
     "execution_count": 3,
     "metadata": {},
     "output_type": "execute_result"
    }
   ],
   "source": [
    "df = pd.read_csv(\n",
    "    \"https://download.geonames.org/export/dump/cities5000.zip\",\n",
    "    sep=\"\\t\",\n",
    "    names=cols,\n",
    "    na_values=[\"\"],\n",
    "    keep_default_na=False,\n",
    ")\n",
    "len(df)"
   ]
  },
  {
   "cell_type": "markdown",
   "metadata": {},
   "source": [
    "filter data source with the following criteria:\n",
    "\n",
    "- first-order administrative division with a population > 10000\n",
    "- second/third-order administrative division with a population > 500,000\n",
    "- capital cities\n",
    "\n",
    "where feature codes are:\n",
    "\n",
    "- PPLA - first-order administrative division\n",
    "- PPLA2 - second-order administrative division\n",
    "- PPLA3 - third-order administrative division\n",
    "- PPLC - Capital of a country, region\n",
    "- PPLCD - Capital of a dependency or special area\n",
    "- PPLCH - Historical Capital\n",
    "\n",
    "refer https://download.geonames.org/export/dump/featureCodes_en.txt for details"
   ]
  },
  {
   "cell_type": "code",
   "execution_count": 4,
   "metadata": {},
   "outputs": [],
   "source": [
    "criteria = (\n",
    "    ((df[\"feature code\"] == \"PPLA\") & (df[\"population\"] > 10000))\n",
    "    | ((df[\"feature code\"].isin([\"PPLA2\", \"PPLA3\"])) & (df[\"population\"] > 500_000))\n",
    "    | ((df[\"feature code\"] == \"PPL\") & (df[\"population\"] > 1_000_000))\n",
    "    | (df[\"feature code\"].isin([\"PPLC\", \"PPLCD\", \"PPLCH\"]))\n",
    ")"
   ]
  },
  {
   "cell_type": "markdown",
   "metadata": {},
   "source": [
    "- cities ordered by name with the following columns:\n",
    "  - asciiname\n",
    "  - population\n",
    "  - timezone\n",
    "  - country code\n",
    "  - latitude\n",
    "  - longitude\n",
    "- rename the columns to the following:\n",
    "  - name\n",
    "  - pop\n",
    "  - timezone\n",
    "  - country\n",
    "  - lat\n",
    "  - lon"
   ]
  },
  {
   "cell_type": "code",
   "execution_count": 5,
   "metadata": {},
   "outputs": [],
   "source": [
    "# unique admin1 codes\n",
    "df = df[criteria][[\"asciiname\", \"population\", \"timezone\", \"country code\", \"latitude\", \"longitude\"]]\n",
    "df.columns = [\"name\", \"pop\", \"timezone\", \"country\", \"lat\", \"lon\"]"
   ]
  },
  {
   "cell_type": "markdown",
   "metadata": {},
   "source": [
    "extra cleanup \n",
    "\n",
    "- remove starting single quote in the name column\n",
    "- change lat and lon to 6 significant digits\n",
    "- case insensitive sorting by name and population\n",
    "- drop duplicates"
   ]
  },
  {
   "cell_type": "code",
   "execution_count": 6,
   "metadata": {},
   "outputs": [],
   "source": [
    "df[\"name\"] = df[\"name\"].str.lstrip(\"'\")\n",
    "df[\"lat\"] = df[\"lat\"].apply(lambda x: float('{:.6g}'.format(x)))\n",
    "df[\"lon\"] = df[\"lon\"].apply(lambda x: float('{:.6g}'.format(x)))"
   ]
  },
  {
   "cell_type": "code",
   "execution_count": 7,
   "metadata": {},
   "outputs": [
    {
     "data": {
      "text/plain": [
       "3222"
      ]
     },
     "execution_count": 7,
     "metadata": {},
     "output_type": "execute_result"
    }
   ],
   "source": [
    "cities = df.sort_values(\n",
    "    by=[\"name\", \"pop\"],\n",
    "    key=lambda x: x.str.lower() if x.name == \"name\" else x,\n",
    "    ascending=[True, False],\n",
    ")\n",
    "cities = cities.drop_duplicates(subset=[\"name\", \"country\"], keep=\"first\")\n",
    "len(cities)"
   ]
  },
  {
   "cell_type": "markdown",
   "metadata": {},
   "source": [
    "- concatenate Chinese cities from the following csv\n",
    "- export to gzipped csv"
   ]
  },
  {
   "cell_type": "code",
   "execution_count": 8,
   "metadata": {},
   "outputs": [],
   "source": [
    "from io import BytesIO"
   ]
  },
  {
   "cell_type": "code",
   "execution_count": 9,
   "metadata": {},
   "outputs": [],
   "source": [
    "csv = \"\"\"name,pop,timezone,country,lat,lon\n",
    "台北,7871900,Asia/Taipei,TW,25.0478,121.532\n",
    "新北,543342,Asia/Taipei,TW,25.0143,121.467\n",
    "基隆,397515,Asia/Taipei,TW,25.1309,121.741\n",
    "桃園,402014,Asia/Taipei,TW,24.9937,121.297\n",
    "新竹,404109,Asia/Taipei,TW,24.8036,120.969\n",
    "苗栗,533219,Asia/Taipei,TW,24.5141,120.317\n",
    "台中,1040725,Asia/Taipei,TW,24.1469,120.684\n",
    "彰化,124725,Asia/Taipei,TW,23.9567,120.576\n",
    "雲林,104723,Asia/Taipei,TW,23.7094,120.543\n",
    "嘉義,262553,Asia/Taipei,TW,23.5769,120.317\n",
    "台南,771235,Asia/Taipei,TW,22.9908,120.213\n",
    "高雄,1519711,Asia/Taipei,TW,22.6163,120.313\n",
    "屏東,31288,Asia/Taipei,TW,22.0042,120.744\n",
    "南投,105682,Asia/Taipei,TW,23.9157,120.664\n",
    "宜蘭,94188,Asia/Taipei,TW,24.757,121.753\n",
    "花蓮,350468,Asia/Taipei,TW,23.9769,121.604\n",
    "台東,211681,Asia/Taipei,TW,22.7217,120.51\n",
    "澎湖,56435,Asia/Taipei,TW,23.5654,119.586\n",
    "金門,37507,Asia/Taipei,TW,24.4341,118.317\n",
    "馬祖,8000,Asia/Taipei,TW,26.1457,119.913\n",
    "香港,7491609,Asia/Hong_Kong,HK,22.2783,114.174\n",
    "澳門,649335,Asia/Macau,MO,22.2005,113.546\n",
    "北京,18960744,Asia/Shanghai,CN,39.9075,116.397\n",
    "上海,22315474,Asia/Shanghai,CN,31.2222,121.458\n",
    "廣州,16096724,Asia/Shanghai,CN,23.1166,113.25\n",
    "深圳,17494398,Asia/Shanghai,CN,22.5455,114.068\n",
    "\"\"\"\n",
    "\n",
    "chinese_cities = pd.read_csv(BytesIO(csv.encode()))\n",
    "pd.concat([chinese_cities, cities]).to_csv(\"natal/data/cities.csv.gz\", index=False, compression=\"gzip\")"
   ]
  }
 ],
 "metadata": {
  "kernelspec": {
   "display_name": ".venv",
   "language": "python",
   "name": "python3"
  },
  "language_info": {
   "codemirror_mode": {
    "name": "ipython",
    "version": 3
   },
   "file_extension": ".py",
   "mimetype": "text/x-python",
   "name": "python",
   "nbconvert_exporter": "python",
   "pygments_lexer": "ipython3",
   "version": "3.13.1"
  }
 },
 "nbformat": 4,
 "nbformat_minor": 2
}
